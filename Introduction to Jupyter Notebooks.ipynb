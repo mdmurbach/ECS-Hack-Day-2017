{
 "cells": [
  {
   "cell_type": "markdown",
   "metadata": {
    "deletable": true,
    "editable": true,
    "slideshow": {
     "slide_type": "slide"
    }
   },
   "source": [
    "# <center> An introduction to Jupyter notebooks </center>\n",
    "## <center> ECS Data Science Hack Day 2017 <br> 4 October 2017</center>"
   ]
  },
  {
   "cell_type": "markdown",
   "metadata": {
    "deletable": true,
    "editable": true,
    "slideshow": {
     "slide_type": "slide"
    }
   },
   "source": [
    "## What is Jupyter?\n",
    "\n",
    "### It's a browser based application allowing you to run \"notebooks\" in your browser.\n",
    "### These notebooks can contain code"
   ]
  },
  {
   "cell_type": "code",
   "execution_count": 1,
   "metadata": {
    "ExecuteTime": {
     "end_time": "2017-10-04T03:04:47.826640Z",
     "start_time": "2017-10-03T23:04:47.814633-04:00"
    },
    "collapsed": false,
    "deletable": true,
    "editable": true,
    "slideshow": {
     "slide_type": "fragment"
    }
   },
   "outputs": [
    {
     "name": "stdout",
     "output_type": "stream",
     "text": [
      "42\n"
     ]
    }
   ],
   "source": [
    "a = 42\n",
    "\n",
    "print(a)"
   ]
  },
  {
   "cell_type": "markdown",
   "metadata": {
    "deletable": true,
    "editable": true,
    "slideshow": {
     "slide_type": "fragment"
    }
   },
   "source": [
    "### or Markdown!\n",
    "\n",
    "### Lists\n",
    "- a\n",
    "- b \n",
    "\n",
    "### Equations\n",
    "$$\n",
    "\\frac{\\partial (\\epsilon c)}{\\partial t} = \\frac{\\partial}{\\partial x}\\left( \\epsilon D_{eff}\\frac{\\partial c}{\\partial x} \\right) + a (1-t_+^0) j_n\n",
    "$$\n",
    "\n",
    "### Tables\n",
    "\n",
    "| Name | | Column |\n",
    "|:---:|:---:|:---:|\n",
    "||This is a fun table||\n",
    "|To Do| Fill in the rest| |"
   ]
  },
  {
   "cell_type": "markdown",
   "metadata": {
    "collapsed": true,
    "deletable": true,
    "editable": true,
    "slideshow": {
     "slide_type": "subslide"
    }
   },
   "source": [
    "### <center> Ju (Julia) + py (Python) + r (R) </center>\n",
    "\n",
    "### and now many many (~75) other languages\n",
    "\n",
    "<center> <img src=\"./images/jupyter-languages.JPG\" width=\"50%\"/> <center>\n",
    "<p style=\"text-align:right\">Image from Fernando Perez PLOTCON talk</p> "
   ]
  },
  {
   "cell_type": "markdown",
   "metadata": {
    "deletable": true,
    "editable": true,
    "slideshow": {
     "slide_type": "slide"
    }
   },
   "source": [
    "# Easy development of code in bite size chunks"
   ]
  },
  {
   "cell_type": "markdown",
   "metadata": {
    "deletable": true,
    "editable": true,
    "slideshow": {
     "slide_type": "subslide"
    }
   },
   "source": [
    "### Data intensive step"
   ]
  },
  {
   "cell_type": "code",
   "execution_count": 3,
   "metadata": {
    "ExecuteTime": {
     "end_time": "2017-10-04T03:06:05.388792Z",
     "start_time": "2017-10-03T23:06:05.322745-04:00"
    },
    "collapsed": false,
    "deletable": true,
    "editable": true,
    "slideshow": {
     "slide_type": "fragment"
    }
   },
   "outputs": [
    {
     "data": {
      "text/html": [
       "<div>\n",
       "<table border=\"1\" class=\"dataframe\">\n",
       "  <thead>\n",
       "    <tr style=\"text-align: right;\">\n",
       "      <th></th>\n",
       "      <th>time(s)</th>\n",
       "      <th>current(A)</th>\n",
       "      <th>potential(V)</th>\n",
       "      <th>frequency(Hz)</th>\n",
       "      <th>amplitude(A)</th>\n",
       "    </tr>\n",
       "  </thead>\n",
       "  <tbody>\n",
       "    <tr>\n",
       "      <th>0</th>\n",
       "      <td>0.000000</td>\n",
       "      <td>-0.284471</td>\n",
       "      <td>-0.105758</td>\n",
       "      <td>1.0</td>\n",
       "      <td>0.3</td>\n",
       "    </tr>\n",
       "    <tr>\n",
       "      <th>1</th>\n",
       "      <td>0.002441</td>\n",
       "      <td>-0.284077</td>\n",
       "      <td>-0.105703</td>\n",
       "      <td>NaN</td>\n",
       "      <td>NaN</td>\n",
       "    </tr>\n",
       "    <tr>\n",
       "      <th>2</th>\n",
       "      <td>0.004883</td>\n",
       "      <td>-0.283850</td>\n",
       "      <td>-0.105895</td>\n",
       "      <td>NaN</td>\n",
       "      <td>NaN</td>\n",
       "    </tr>\n",
       "    <tr>\n",
       "      <th>3</th>\n",
       "      <td>0.007324</td>\n",
       "      <td>-0.283256</td>\n",
       "      <td>-0.105730</td>\n",
       "      <td>NaN</td>\n",
       "      <td>NaN</td>\n",
       "    </tr>\n",
       "    <tr>\n",
       "      <th>4</th>\n",
       "      <td>0.009766</td>\n",
       "      <td>-0.282669</td>\n",
       "      <td>-0.105804</td>\n",
       "      <td>NaN</td>\n",
       "      <td>NaN</td>\n",
       "    </tr>\n",
       "  </tbody>\n",
       "</table>\n",
       "</div>"
      ],
      "text/plain": [
       "    time(s)  current(A)  potential(V)  frequency(Hz)  amplitude(A)\n",
       "0  0.000000   -0.284471     -0.105758            1.0           0.3\n",
       "1  0.002441   -0.284077     -0.105703            NaN           NaN\n",
       "2  0.004883   -0.283850     -0.105895            NaN           NaN\n",
       "3  0.007324   -0.283256     -0.105730            NaN           NaN\n",
       "4  0.009766   -0.282669     -0.105804            NaN           NaN"
      ]
     },
     "execution_count": 3,
     "metadata": {},
     "output_type": "execute_result"
    }
   ],
   "source": [
    "# import the pandas package\n",
    "import pandas as pd\n",
    "\n",
    "# read in the data from our file\n",
    "data = pd.read_csv('./time-data(833).txt')\n",
    "\n",
    "# assign names to each of the columns for easy reference\n",
    "data.columns = ['time(s)', 'current(A)', 'potential(V)', 'frequency(Hz)', 'amplitude(A)']\n",
    "\n",
    "# print out the first 5 rows of our data\n",
    "data.head()"
   ]
  },
  {
   "cell_type": "markdown",
   "metadata": {
    "ExecuteTime": {
     "end_time": "2017-10-01T14:30:01.275550Z",
     "start_time": "2017-10-01T10:30:01.267548-04:00"
    },
    "deletable": true,
    "editable": true,
    "slideshow": {
     "slide_type": "subslide"
    }
   },
   "source": [
    "    \n",
    "### Followed by a visualization or exploratory data analysis"
   ]
  },
  {
   "cell_type": "code",
   "execution_count": 4,
   "metadata": {
    "ExecuteTime": {
     "end_time": "2017-10-04T03:06:08.103465Z",
     "start_time": "2017-10-03T23:06:07.741502-04:00"
    },
    "collapsed": false,
    "deletable": true,
    "editable": true,
    "slideshow": {
     "slide_type": "fragment"
    }
   },
   "outputs": [
    {
     "data": {
      "image/png": "[encoded data removed]",
      "text/plain": [
       "<matplotlib.figure.Figure at 0x1a5ede8c748>"
      ]
     },
     "metadata": {},
     "output_type": "display_data"
    }
   ],
   "source": [
    "# import the matplotlib package\n",
    "import matplotlib.pyplot as plt\n",
    "\n",
    "# plot the current and voltage vs time\n",
    "plt.plot(data['time(s)'], data['current(A)'])\n",
    "plt.plot(data['time(s)'], data['potential(V)'])\n",
    "\n",
    "plt.show()"
   ]
  },
  {
   "cell_type": "code",
   "execution_count": 5,
   "metadata": {
    "ExecuteTime": {
     "end_time": "2017-10-04T03:06:08.926572Z",
     "start_time": "2017-10-03T23:06:08.916565-04:00"
    },
    "collapsed": false,
    "deletable": true,
    "editable": true,
    "slideshow": {
     "slide_type": "fragment"
    }
   },
   "outputs": [
    {
     "name": "stdout",
     "output_type": "stream",
     "text": [
      "Mean current = 1.8441869734792116e-07 A;  Mean potential = 1.8537388039516212e-07 V\n"
     ]
    }
   ],
   "source": [
    "mean_current = data[\"current(A)\"].mean()\n",
    "mean_potential = data[\"potential(V)\"].mean()\n",
    "\n",
    "\n",
    "print('Mean current = {0} A;  Mean potential = {1} V'.format(mean_current, mean_potential))"
   ]
  },
  {
   "cell_type": "markdown",
   "metadata": {
    "deletable": true,
    "editable": true,
    "slideshow": {
     "slide_type": "slide"
    }
   },
   "source": [
    "# Tips and tricks (keyboard shortcuts and %magic)"
   ]
  },
  {
   "cell_type": "markdown",
   "metadata": {
    "deletable": true,
    "editable": true,
    "slideshow": {
     "slide_type": "fragment"
    }
   },
   "source": [
    "# Keyboard shortcuts\n",
    "### Command mode vs. Edit mode\n",
    "\n",
    "Toggle with `esc` and `enter` keys\n",
    "\n",
    "### Useful command mode shortcuts\n",
    "|Command|Action|\n",
    "|:-----:|:----:|\n",
    "|a|Create new cell above|\n",
    "|b|Create new cell below|\n",
    "|d d|Delete current cell|\n",
    "|z| Undo delete cell|\n",
    "|m|Change cell to markdown|\n",
    "|y|Change cell to code|\n",
    "|h| Bring up the list of shortcuts|\n",
    "\n",
    "### Useful editing shortcuts\n",
    "\n",
    "|Command|Action|\n",
    "|:-----:|:----:|\n",
    "|Ctrl-a|Select all|\n",
    "|Ctrl-c|Copy|\n",
    "|Ctrl-v|Paste|\n",
    "|Ctrl-s|Save|\n",
    "|Tab| Autocomplete |\n",
    "|Shift-tab| Tooltips|"
   ]
  },
  {
   "cell_type": "markdown",
   "metadata": {
    "deletable": true,
    "editable": true
   },
   "source": [
    "# %magics!\n",
    "\n",
    "Commands that add additional (usually more advanced) features to the notebook\n",
    "\n",
    "|Magic|Action|\n",
    "|:-----:|:----:|\n",
    "| %lsmagic | List all magics |\n",
    "| ! | Execute shell script |\n",
    "| %who(s) | See list of variables in current kernel |\n",
    "| %time(it)| Time a python expression <br>(w/ control over number of executions, etc.)|\n",
    "\n",
    "Many more built-in magic functions: http://ipython.readthedocs.io/en/stable/interactive/magics.html\n",
    "\n",
    "### Cell magics (%%) vs. line magics (%)\n",
    "\n",
    "Some magics have versions that apply to the entire cell by placing %%magic as the first line in a cell (i.e. %%timeit)"
   ]
  },
  {
   "cell_type": "code",
   "execution_count": 6,
   "metadata": {
    "ExecuteTime": {
     "end_time": "2017-10-04T03:06:14.453648Z",
     "start_time": "2017-10-03T23:06:12.983624-04:00"
    },
    "collapsed": false,
    "deletable": true,
    "editable": true
   },
   "outputs": [
    {
     "name": "stdout",
     "output_type": "stream",
     "text": [
      "10000 loops, best of 3: 34.8 µs per loop\n"
     ]
    }
   ],
   "source": [
    "%timeit \",\".join(str(n) for n in range(100))\n"
   ]
  },
  {
   "cell_type": "markdown",
   "metadata": {
    "deletable": true,
    "editable": true
   },
   "source": [
    "# Other cool stuff \n",
    "\n",
    "### Slideshow:\n",
    "\n",
    "    jupyter nbconvert notebook.ipynb --to slides --post serve\n",
    "    \n",
    "### Online rendering with nbviewer: https://nbviewer.jupyter.org/\n",
    "\n",
    "### Online execution with Binder: http://mybinder.org/\n",
    "\n",
    "### Multi-user server with Jupyter Hub\n",
    "\n",
    "### Add-ons with nbextensions\n",
    "\n",
    "### Magics to execute R inside python notebook (https://rpy2.bitbucket.io/)\n",
    "\n",
    "### Coming Soon! JupyterLab: a full IDE!\n",
    "\n",
    "https://github.com/jupyterlab/jupyterlab"
   ]
  },
  {
   "cell_type": "code",
   "execution_count": null,
   "metadata": {
    "collapsed": true,
    "deletable": true,
    "editable": true
   },
   "outputs": [],
   "source": []
  }
 ],
 "metadata": {
  "kernelspec": {
   "display_name": "Python 3",
   "language": "python",
   "name": "python3"
  },
  "language_info": {
   "codemirror_mode": {
    "name": "ipython",
    "version": 3
   },
   "file_extension": ".py",
   "mimetype": "text/x-python",
   "name": "python",
   "nbconvert_exporter": "python",
   "pygments_lexer": "ipython3",
   "version": "3.6.1"
  }
 },
 "nbformat": 4,
 "nbformat_minor": 2
}
