{
 "cells": [
  {
   "cell_type": "markdown",
   "metadata": {
    "ExecuteTime": {
     "end_time": "2017-10-01T17:30:00.356724Z",
     "start_time": "2017-10-01T13:30:00.337691-04:00"
    },
    "deletable": true,
    "editable": true
   },
   "source": [
    "# <center>The Python Ecosystem </center>"
   ]
  },
  {
   "cell_type": "markdown",
   "metadata": {
    "deletable": true,
    "editable": true
   },
   "source": [
    "# Installing Python Packages"
   ]
  },
  {
   "cell_type": "markdown",
   "metadata": {
    "deletable": true,
    "editable": true
   },
   "source": [
    "## PyPI and pip\n",
    "\n",
    "### PyPI = Python Package Index\n",
    "### \"A repository of software for the Python programming language\"\n",
    "\n",
    "### Examples:\n",
    "   \n",
    "    pip install pandas\n",
    "    \n",
    "    pip freeze > requirements.txt\n",
    "    \n",
    "    pip install --upgrade pandas\n",
    "    \n",
    "### pip installs packages from source (or from wheels) that are uploaded to PyPI"
   ]
  },
  {
   "cell_type": "markdown",
   "metadata": {
    "deletable": true,
    "editable": true
   },
   "source": [
    "<center> <img src=\"./images/conda.png\" width=\"50%\" /> </center>\n",
    "\n",
    "## Conda is a non-python specific package manager\n",
    "\n",
    "### Examples:\n",
    "\n",
    "    conda install scipy\n",
    "    \n",
    "    conda list --export > package-list.txt\n",
    "    \n",
    "### Conda installs from *binaries* and is much better at handling non-Python dependencies"
   ]
  },
  {
   "cell_type": "markdown",
   "metadata": {
    "deletable": true,
    "editable": true
   },
   "source": [
    "<center> <img src=\"images/github.png\" width=\"40%\" /> </center>"
   ]
  },
  {
   "cell_type": "markdown",
   "metadata": {
    "deletable": true,
    "editable": true
   },
   "source": [
    "### Select popular  python packages \n",
    "  \n",
    "- #### Plotting\n",
    "    seaborn, matplotlib, bokeh  \n",
    "- #### Data Manipulation and numerical computing\n",
    "    numpy, scipy, pandas \n",
    "- #### Machine learning\n",
    "    scikit-learn, TensorFlow, theano  \n",
    "- #### Image processing\n",
    "    scikit-image, Pillow\n",
    "- #### Documentation and testing\n",
    "    Pytest, sphinx, unittest"
   ]
  },
  {
   "cell_type": "markdown",
   "metadata": {
    "ExecuteTime": {
     "end_time": "2017-10-02T13:46:43.953076Z",
     "start_time": "2017-10-02T09:46:43.947068-04:00"
    },
    "deletable": true,
    "editable": true
   },
   "source": [
    "<center> <img src=\"./images/scipy.png\" width=\"30%\"/> </center>\n",
    "\n",
    "## SciPy is a collection of open-source Python libraries for mathematics, science, and engineering\n",
    "\n",
    "\n",
    "### Contains many useful tools for optimization, signal processing, curve fitting\n",
    "\n",
    "\n",
    "#### Tip: SciPy can be on the more difficult side to install due to all of the C dependencies. Highly recommended to use Conda as a package management tool"
   ]
  },
  {
   "cell_type": "code",
   "execution_count": 1,
   "metadata": {
    "ExecuteTime": {
     "end_time": "2017-10-04T03:07:05.000361Z",
     "start_time": "2017-10-03T23:07:04.280135-04:00"
    },
    "collapsed": false,
    "deletable": true,
    "editable": true
   },
   "outputs": [
    {
     "data": {
      "image/png": "[encoded data removed]",
      "text/plain": [
       "<matplotlib.figure.Figure at 0x188d8196cc0>"
      ]
     },
     "metadata": {},
     "output_type": "display_data"
    }
   ],
   "source": [
    "import numpy as np\n",
    "import matplotlib.pyplot as plt\n",
    "from scipy.optimize import curve_fit\n",
    "\n",
    "def func(x, a, b, c):\n",
    "    return a * np.exp(-b * x) + c\n",
    "\n",
    "# define the data to be fit with some noise\n",
    "\n",
    "xdata = np.linspace(0, 4, 50)\n",
    "y = func(xdata, 2.5, 1.3, 0.5)\n",
    "y_noise = 0.2 * np.random.normal(size=xdata.size)\n",
    "ydata = y + y_noise\n",
    "plt.plot(xdata, ydata, 'b-', label='data')\n",
    "\n",
    "# Fit for the parameters a, b, c of the function func\n",
    "\n",
    "popt, pcov = curve_fit(func, xdata, ydata)\n",
    "plt.plot(xdata, func(xdata, *popt), 'r-', label='fit')\n",
    "\n",
    "# Constrain the optimization to the region of 0 < a < 3, 0 < b < 2 and 0 < c < 1:\n",
    "\n",
    "popt, pcov = curve_fit(func, xdata, ydata, bounds=(0, [3., 2., 1.]))\n",
    "plt.plot(xdata, func(xdata, *popt), 'g--', label='fit-with-bounds')\n",
    "\n",
    "plt.xlabel('x')\n",
    "plt.ylabel('y')\n",
    "plt.legend()\n",
    "plt.show()"
   ]
  },
  {
   "cell_type": "markdown",
   "metadata": {
    "deletable": true,
    "editable": true
   },
   "source": [
    "<center> <img src=\"./images/numpy.png\" width=\"40%\"/> </center>\n",
    "\n",
    "### NumPy useful library for scientific computing. Adding arrays, linear algebra tools, optimized integration with C/Fortran\n",
    "\n",
    "#### Used by many, many other numerical/scientific computing packages\n",
    "\n",
    "Potentially useful: [NumPy for MATLAB users](https://docs.scipy.org/doc/numpy-dev/user/numpy-for-matlab-users.html)\n"
   ]
  },
  {
   "cell_type": "code",
   "execution_count": 2,
   "metadata": {
    "ExecuteTime": {
     "end_time": "2017-10-04T03:07:06.887387Z",
     "start_time": "2017-10-03T23:07:06.699277-04:00"
    },
    "collapsed": false,
    "deletable": true,
    "editable": true
   },
   "outputs": [
    {
     "name": "stdout",
     "output_type": "stream",
     "text": [
      "Mean = 0.392 \t Std. Dev. = 0.275\n"
     ]
    },
    {
     "data": {
      "image/png": "[encoded data removed]",
      "text/plain": [
       "<matplotlib.figure.Figure at 0x188d6aff2e8>"
      ]
     },
     "metadata": {},
     "output_type": "display_data"
    }
   ],
   "source": [
    "import numpy as np\n",
    "\n",
    "x = np.linspace(0,10, num=10)\n",
    "y = np.random.random(len(x))\n",
    "\n",
    "y_mean = y.mean()\n",
    "y_std = y.std()\n",
    "\n",
    "print('Mean = {0:.3f} \\t Std. Dev. = {1:.3f}'.format(y_mean, y_std))\n",
    "\n",
    "plt.plot(x, y, 'o')\n",
    "plt.ylim(0,1)\n",
    "plt.show()"
   ]
  },
  {
   "cell_type": "markdown",
   "metadata": {
    "deletable": true,
    "editable": true,
    "slideshow": {
     "slide_type": "slide"
    }
   },
   "source": [
    "<center> <img src=\"./images/pandas_logo.png\"/> </center>\n",
    "\n",
    "## Python Data Analysis Library (http://pandas.pydata.org/)\n",
    "\n",
    "### Amazingly useful library for importing, manipulating, cleaning data from a wide variety of sources"
   ]
  },
  {
   "cell_type": "markdown",
   "metadata": {
    "deletable": true,
    "editable": true,
    "slideshow": {
     "slide_type": "fragment"
    }
   },
   "source": [
    "#### Easy importing of data"
   ]
  },
  {
   "cell_type": "code",
   "execution_count": 3,
   "metadata": {
    "ExecuteTime": {
     "end_time": "2017-10-04T03:07:08.930889Z",
     "start_time": "2017-10-03T23:07:08.673689-04:00"
    },
    "collapsed": false,
    "deletable": true,
    "editable": true,
    "scrolled": true,
    "slideshow": {
     "slide_type": "fragment"
    }
   },
   "outputs": [
    {
     "data": {
      "text/html": [
       "<div>\n",
       "<table border=\"1\" class=\"dataframe\">\n",
       "  <thead>\n",
       "    <tr style=\"text-align: right;\">\n",
       "      <th></th>\n",
       "      <th>time(s)</th>\n",
       "      <th>current(A)</th>\n",
       "      <th>potential(V)</th>\n",
       "      <th>frequency(Hz)</th>\n",
       "      <th>amplitude(A)</th>\n",
       "    </tr>\n",
       "  </thead>\n",
       "  <tbody>\n",
       "    <tr>\n",
       "      <th>0</th>\n",
       "      <td>0.000000</td>\n",
       "      <td>-0.284471</td>\n",
       "      <td>-0.105758</td>\n",
       "      <td>1.0</td>\n",
       "      <td>0.3</td>\n",
       "    </tr>\n",
       "    <tr>\n",
       "      <th>1</th>\n",
       "      <td>0.002441</td>\n",
       "      <td>-0.284077</td>\n",
       "      <td>-0.105703</td>\n",
       "      <td>NaN</td>\n",
       "      <td>NaN</td>\n",
       "    </tr>\n",
       "    <tr>\n",
       "      <th>2</th>\n",
       "      <td>0.004883</td>\n",
       "      <td>-0.283850</td>\n",
       "      <td>-0.105895</td>\n",
       "      <td>NaN</td>\n",
       "      <td>NaN</td>\n",
       "    </tr>\n",
       "    <tr>\n",
       "      <th>3</th>\n",
       "      <td>0.007324</td>\n",
       "      <td>-0.283256</td>\n",
       "      <td>-0.105730</td>\n",
       "      <td>NaN</td>\n",
       "      <td>NaN</td>\n",
       "    </tr>\n",
       "    <tr>\n",
       "      <th>4</th>\n",
       "      <td>0.009766</td>\n",
       "      <td>-0.282669</td>\n",
       "      <td>-0.105804</td>\n",
       "      <td>NaN</td>\n",
       "      <td>NaN</td>\n",
       "    </tr>\n",
       "  </tbody>\n",
       "</table>\n",
       "</div>"
      ],
      "text/plain": [
       "    time(s)  current(A)  potential(V)  frequency(Hz)  amplitude(A)\n",
       "0  0.000000   -0.284471     -0.105758            1.0           0.3\n",
       "1  0.002441   -0.284077     -0.105703            NaN           NaN\n",
       "2  0.004883   -0.283850     -0.105895            NaN           NaN\n",
       "3  0.007324   -0.283256     -0.105730            NaN           NaN\n",
       "4  0.009766   -0.282669     -0.105804            NaN           NaN"
      ]
     },
     "execution_count": 3,
     "metadata": {},
     "output_type": "execute_result"
    }
   ],
   "source": [
    "# import the pandas package\n",
    "import pandas as pd\n",
    "\n",
    "# read in the data from our file\n",
    "data = pd.read_csv('./time-data(833).txt')\n",
    "\n",
    "# assign names to each of the columns for easy reference\n",
    "data.columns = ['time(s)', 'current(A)', 'potential(V)', 'frequency(Hz)', 'amplitude(A)']\n",
    "\n",
    "# print out the first 5 rows of our data\n",
    "data.head()"
   ]
  },
  {
   "cell_type": "markdown",
   "metadata": {
    "deletable": true,
    "editable": true,
    "slideshow": {
     "slide_type": "subslide"
    }
   },
   "source": [
    "#### Manipulate data (remove columns with NaN, calculate mean, apply function to all rows)"
   ]
  },
  {
   "cell_type": "code",
   "execution_count": 4,
   "metadata": {
    "ExecuteTime": {
     "end_time": "2017-10-04T03:07:10.280417Z",
     "start_time": "2017-10-03T23:07:10.250395-04:00"
    },
    "collapsed": false,
    "deletable": true,
    "editable": true,
    "slideshow": {
     "slide_type": "fragment"
    }
   },
   "outputs": [
    {
     "data": {
      "text/html": [
       "<div>\n",
       "<table border=\"1\" class=\"dataframe\">\n",
       "  <thead>\n",
       "    <tr style=\"text-align: right;\">\n",
       "      <th></th>\n",
       "      <th>time(s)</th>\n",
       "      <th>current(A)</th>\n",
       "      <th>potential(V)</th>\n",
       "    </tr>\n",
       "  </thead>\n",
       "  <tbody>\n",
       "    <tr>\n",
       "      <th>0</th>\n",
       "      <td>0.000000</td>\n",
       "      <td>-0.284471</td>\n",
       "      <td>-0.105758</td>\n",
       "    </tr>\n",
       "    <tr>\n",
       "      <th>1</th>\n",
       "      <td>0.002441</td>\n",
       "      <td>-0.284077</td>\n",
       "      <td>-0.105703</td>\n",
       "    </tr>\n",
       "    <tr>\n",
       "      <th>2</th>\n",
       "      <td>0.004883</td>\n",
       "      <td>-0.283850</td>\n",
       "      <td>-0.105895</td>\n",
       "    </tr>\n",
       "    <tr>\n",
       "      <th>3</th>\n",
       "      <td>0.007324</td>\n",
       "      <td>-0.283256</td>\n",
       "      <td>-0.105730</td>\n",
       "    </tr>\n",
       "    <tr>\n",
       "      <th>4</th>\n",
       "      <td>0.009766</td>\n",
       "      <td>-0.282669</td>\n",
       "      <td>-0.105804</td>\n",
       "    </tr>\n",
       "    <tr>\n",
       "      <th>5</th>\n",
       "      <td>0.012207</td>\n",
       "      <td>-0.282137</td>\n",
       "      <td>-0.105778</td>\n",
       "    </tr>\n",
       "    <tr>\n",
       "      <th>6</th>\n",
       "      <td>0.014648</td>\n",
       "      <td>-0.281446</td>\n",
       "      <td>-0.105786</td>\n",
       "    </tr>\n",
       "    <tr>\n",
       "      <th>7</th>\n",
       "      <td>0.017090</td>\n",
       "      <td>-0.280674</td>\n",
       "      <td>-0.105582</td>\n",
       "    </tr>\n",
       "    <tr>\n",
       "      <th>8</th>\n",
       "      <td>0.019531</td>\n",
       "      <td>-0.279852</td>\n",
       "      <td>-0.105437</td>\n",
       "    </tr>\n",
       "    <tr>\n",
       "      <th>9</th>\n",
       "      <td>0.021973</td>\n",
       "      <td>-0.279290</td>\n",
       "      <td>-0.105359</td>\n",
       "    </tr>\n",
       "    <tr>\n",
       "      <th>10</th>\n",
       "      <td>0.024414</td>\n",
       "      <td>-0.278308</td>\n",
       "      <td>-0.105172</td>\n",
       "    </tr>\n",
       "    <tr>\n",
       "      <th>11</th>\n",
       "      <td>0.026855</td>\n",
       "      <td>-0.277288</td>\n",
       "      <td>-0.105127</td>\n",
       "    </tr>\n",
       "    <tr>\n",
       "      <th>12</th>\n",
       "      <td>0.029297</td>\n",
       "      <td>-0.276120</td>\n",
       "      <td>-0.104886</td>\n",
       "    </tr>\n",
       "    <tr>\n",
       "      <th>13</th>\n",
       "      <td>0.031738</td>\n",
       "      <td>-0.274937</td>\n",
       "      <td>-0.104629</td>\n",
       "    </tr>\n",
       "    <tr>\n",
       "      <th>14</th>\n",
       "      <td>0.034180</td>\n",
       "      <td>-0.273814</td>\n",
       "      <td>-0.104394</td>\n",
       "    </tr>\n",
       "    <tr>\n",
       "      <th>15</th>\n",
       "      <td>0.036621</td>\n",
       "      <td>-0.272261</td>\n",
       "      <td>-0.104058</td>\n",
       "    </tr>\n",
       "    <tr>\n",
       "      <th>16</th>\n",
       "      <td>0.039062</td>\n",
       "      <td>-0.271336</td>\n",
       "      <td>-0.103665</td>\n",
       "    </tr>\n",
       "    <tr>\n",
       "      <th>17</th>\n",
       "      <td>0.041504</td>\n",
       "      <td>-0.269673</td>\n",
       "      <td>-0.103470</td>\n",
       "    </tr>\n",
       "    <tr>\n",
       "      <th>18</th>\n",
       "      <td>0.043945</td>\n",
       "      <td>-0.268416</td>\n",
       "      <td>-0.103239</td>\n",
       "    </tr>\n",
       "    <tr>\n",
       "      <th>19</th>\n",
       "      <td>0.046387</td>\n",
       "      <td>-0.266812</td>\n",
       "      <td>-0.102729</td>\n",
       "    </tr>\n",
       "    <tr>\n",
       "      <th>20</th>\n",
       "      <td>0.048828</td>\n",
       "      <td>-0.265262</td>\n",
       "      <td>-0.102478</td>\n",
       "    </tr>\n",
       "    <tr>\n",
       "      <th>21</th>\n",
       "      <td>0.051270</td>\n",
       "      <td>-0.263779</td>\n",
       "      <td>-0.102078</td>\n",
       "    </tr>\n",
       "    <tr>\n",
       "      <th>22</th>\n",
       "      <td>0.053711</td>\n",
       "      <td>-0.261984</td>\n",
       "      <td>-0.101719</td>\n",
       "    </tr>\n",
       "    <tr>\n",
       "      <th>23</th>\n",
       "      <td>0.056152</td>\n",
       "      <td>-0.260308</td>\n",
       "      <td>-0.101161</td>\n",
       "    </tr>\n",
       "    <tr>\n",
       "      <th>24</th>\n",
       "      <td>0.058594</td>\n",
       "      <td>-0.258472</td>\n",
       "      <td>-0.100647</td>\n",
       "    </tr>\n",
       "    <tr>\n",
       "      <th>25</th>\n",
       "      <td>0.061035</td>\n",
       "      <td>-0.256524</td>\n",
       "      <td>-0.100295</td>\n",
       "    </tr>\n",
       "    <tr>\n",
       "      <th>26</th>\n",
       "      <td>0.063477</td>\n",
       "      <td>-0.254727</td>\n",
       "      <td>-0.099790</td>\n",
       "    </tr>\n",
       "    <tr>\n",
       "      <th>27</th>\n",
       "      <td>0.065918</td>\n",
       "      <td>-0.252682</td>\n",
       "      <td>-0.099259</td>\n",
       "    </tr>\n",
       "    <tr>\n",
       "      <th>28</th>\n",
       "      <td>0.068359</td>\n",
       "      <td>-0.250634</td>\n",
       "      <td>-0.098637</td>\n",
       "    </tr>\n",
       "    <tr>\n",
       "      <th>29</th>\n",
       "      <td>0.070801</td>\n",
       "      <td>-0.248539</td>\n",
       "      <td>-0.098179</td>\n",
       "    </tr>\n",
       "    <tr>\n",
       "      <th>...</th>\n",
       "      <td>...</td>\n",
       "      <td>...</td>\n",
       "      <td>...</td>\n",
       "    </tr>\n",
       "    <tr>\n",
       "      <th>4066</th>\n",
       "      <td>9.926758</td>\n",
       "      <td>-0.263134</td>\n",
       "      <td>-0.093680</td>\n",
       "    </tr>\n",
       "    <tr>\n",
       "      <th>4067</th>\n",
       "      <td>9.929199</td>\n",
       "      <td>-0.264686</td>\n",
       "      <td>-0.094432</td>\n",
       "    </tr>\n",
       "    <tr>\n",
       "      <th>4068</th>\n",
       "      <td>9.931641</td>\n",
       "      <td>-0.266219</td>\n",
       "      <td>-0.095228</td>\n",
       "    </tr>\n",
       "    <tr>\n",
       "      <th>4069</th>\n",
       "      <td>9.934082</td>\n",
       "      <td>-0.267799</td>\n",
       "      <td>-0.095858</td>\n",
       "    </tr>\n",
       "    <tr>\n",
       "      <th>4070</th>\n",
       "      <td>9.936523</td>\n",
       "      <td>-0.269299</td>\n",
       "      <td>-0.096548</td>\n",
       "    </tr>\n",
       "    <tr>\n",
       "      <th>4071</th>\n",
       "      <td>9.938965</td>\n",
       "      <td>-0.270669</td>\n",
       "      <td>-0.097141</td>\n",
       "    </tr>\n",
       "    <tr>\n",
       "      <th>4072</th>\n",
       "      <td>9.941406</td>\n",
       "      <td>-0.272100</td>\n",
       "      <td>-0.097808</td>\n",
       "    </tr>\n",
       "    <tr>\n",
       "      <th>4073</th>\n",
       "      <td>9.943848</td>\n",
       "      <td>-0.273435</td>\n",
       "      <td>-0.098317</td>\n",
       "    </tr>\n",
       "    <tr>\n",
       "      <th>4074</th>\n",
       "      <td>9.946289</td>\n",
       "      <td>-0.274693</td>\n",
       "      <td>-0.098924</td>\n",
       "    </tr>\n",
       "    <tr>\n",
       "      <th>4075</th>\n",
       "      <td>9.948730</td>\n",
       "      <td>-0.275838</td>\n",
       "      <td>-0.099520</td>\n",
       "    </tr>\n",
       "    <tr>\n",
       "      <th>4076</th>\n",
       "      <td>9.951172</td>\n",
       "      <td>-0.276707</td>\n",
       "      <td>-0.099925</td>\n",
       "    </tr>\n",
       "    <tr>\n",
       "      <th>4077</th>\n",
       "      <td>9.953613</td>\n",
       "      <td>-0.277725</td>\n",
       "      <td>-0.100483</td>\n",
       "    </tr>\n",
       "    <tr>\n",
       "      <th>4078</th>\n",
       "      <td>9.956055</td>\n",
       "      <td>-0.278760</td>\n",
       "      <td>-0.100963</td>\n",
       "    </tr>\n",
       "    <tr>\n",
       "      <th>4079</th>\n",
       "      <td>9.958496</td>\n",
       "      <td>-0.279693</td>\n",
       "      <td>-0.101415</td>\n",
       "    </tr>\n",
       "    <tr>\n",
       "      <th>4080</th>\n",
       "      <td>9.960938</td>\n",
       "      <td>-0.280284</td>\n",
       "      <td>-0.101836</td>\n",
       "    </tr>\n",
       "    <tr>\n",
       "      <th>4081</th>\n",
       "      <td>9.963379</td>\n",
       "      <td>-0.280871</td>\n",
       "      <td>-0.102247</td>\n",
       "    </tr>\n",
       "    <tr>\n",
       "      <th>4082</th>\n",
       "      <td>9.965820</td>\n",
       "      <td>-0.281848</td>\n",
       "      <td>-0.102605</td>\n",
       "    </tr>\n",
       "    <tr>\n",
       "      <th>4083</th>\n",
       "      <td>9.968262</td>\n",
       "      <td>-0.282330</td>\n",
       "      <td>-0.103131</td>\n",
       "    </tr>\n",
       "    <tr>\n",
       "      <th>4084</th>\n",
       "      <td>9.970703</td>\n",
       "      <td>-0.282752</td>\n",
       "      <td>-0.103366</td>\n",
       "    </tr>\n",
       "    <tr>\n",
       "      <th>4085</th>\n",
       "      <td>9.973145</td>\n",
       "      <td>-0.283507</td>\n",
       "      <td>-0.103658</td>\n",
       "    </tr>\n",
       "    <tr>\n",
       "      <th>4086</th>\n",
       "      <td>9.975586</td>\n",
       "      <td>-0.283814</td>\n",
       "      <td>-0.103956</td>\n",
       "    </tr>\n",
       "    <tr>\n",
       "      <th>4087</th>\n",
       "      <td>9.978027</td>\n",
       "      <td>-0.284203</td>\n",
       "      <td>-0.104321</td>\n",
       "    </tr>\n",
       "    <tr>\n",
       "      <th>4088</th>\n",
       "      <td>9.980469</td>\n",
       "      <td>-0.284397</td>\n",
       "      <td>-0.104410</td>\n",
       "    </tr>\n",
       "    <tr>\n",
       "      <th>4089</th>\n",
       "      <td>9.982910</td>\n",
       "      <td>-0.285028</td>\n",
       "      <td>-0.104687</td>\n",
       "    </tr>\n",
       "    <tr>\n",
       "      <th>4090</th>\n",
       "      <td>9.985352</td>\n",
       "      <td>-0.284903</td>\n",
       "      <td>-0.105058</td>\n",
       "    </tr>\n",
       "    <tr>\n",
       "      <th>4091</th>\n",
       "      <td>9.987793</td>\n",
       "      <td>-0.284905</td>\n",
       "      <td>-0.105150</td>\n",
       "    </tr>\n",
       "    <tr>\n",
       "      <th>4092</th>\n",
       "      <td>9.990234</td>\n",
       "      <td>-0.285173</td>\n",
       "      <td>-0.105203</td>\n",
       "    </tr>\n",
       "    <tr>\n",
       "      <th>4093</th>\n",
       "      <td>9.992676</td>\n",
       "      <td>-0.284732</td>\n",
       "      <td>-0.105366</td>\n",
       "    </tr>\n",
       "    <tr>\n",
       "      <th>4094</th>\n",
       "      <td>9.995117</td>\n",
       "      <td>-0.284542</td>\n",
       "      <td>-0.105529</td>\n",
       "    </tr>\n",
       "    <tr>\n",
       "      <th>4095</th>\n",
       "      <td>9.997559</td>\n",
       "      <td>-0.284638</td>\n",
       "      <td>-0.105660</td>\n",
       "    </tr>\n",
       "  </tbody>\n",
       "</table>\n",
       "<p>4096 rows × 3 columns</p>\n",
       "</div>"
      ],
      "text/plain": [
       "       time(s)  current(A)  potential(V)\n",
       "0     0.000000   -0.284471     -0.105758\n",
       "1     0.002441   -0.284077     -0.105703\n",
       "2     0.004883   -0.283850     -0.105895\n",
       "3     0.007324   -0.283256     -0.105730\n",
       "4     0.009766   -0.282669     -0.105804\n",
       "5     0.012207   -0.282137     -0.105778\n",
       "6     0.014648   -0.281446     -0.105786\n",
       "7     0.017090   -0.280674     -0.105582\n",
       "8     0.019531   -0.279852     -0.105437\n",
       "9     0.021973   -0.279290     -0.105359\n",
       "10    0.024414   -0.278308     -0.105172\n",
       "11    0.026855   -0.277288     -0.105127\n",
       "12    0.029297   -0.276120     -0.104886\n",
       "13    0.031738   -0.274937     -0.104629\n",
       "14    0.034180   -0.273814     -0.104394\n",
       "15    0.036621   -0.272261     -0.104058\n",
       "16    0.039062   -0.271336     -0.103665\n",
       "17    0.041504   -0.269673     -0.103470\n",
       "18    0.043945   -0.268416     -0.103239\n",
       "19    0.046387   -0.266812     -0.102729\n",
       "20    0.048828   -0.265262     -0.102478\n",
       "21    0.051270   -0.263779     -0.102078\n",
       "22    0.053711   -0.261984     -0.101719\n",
       "23    0.056152   -0.260308     -0.101161\n",
       "24    0.058594   -0.258472     -0.100647\n",
       "25    0.061035   -0.256524     -0.100295\n",
       "26    0.063477   -0.254727     -0.099790\n",
       "27    0.065918   -0.252682     -0.099259\n",
       "28    0.068359   -0.250634     -0.098637\n",
       "29    0.070801   -0.248539     -0.098179\n",
       "...        ...         ...           ...\n",
       "4066  9.926758   -0.263134     -0.093680\n",
       "4067  9.929199   -0.264686     -0.094432\n",
       "4068  9.931641   -0.266219     -0.095228\n",
       "4069  9.934082   -0.267799     -0.095858\n",
       "4070  9.936523   -0.269299     -0.096548\n",
       "4071  9.938965   -0.270669     -0.097141\n",
       "4072  9.941406   -0.272100     -0.097808\n",
       "4073  9.943848   -0.273435     -0.098317\n",
       "4074  9.946289   -0.274693     -0.098924\n",
       "4075  9.948730   -0.275838     -0.099520\n",
       "4076  9.951172   -0.276707     -0.099925\n",
       "4077  9.953613   -0.277725     -0.100483\n",
       "4078  9.956055   -0.278760     -0.100963\n",
       "4079  9.958496   -0.279693     -0.101415\n",
       "4080  9.960938   -0.280284     -0.101836\n",
       "4081  9.963379   -0.280871     -0.102247\n",
       "4082  9.965820   -0.281848     -0.102605\n",
       "4083  9.968262   -0.282330     -0.103131\n",
       "4084  9.970703   -0.282752     -0.103366\n",
       "4085  9.973145   -0.283507     -0.103658\n",
       "4086  9.975586   -0.283814     -0.103956\n",
       "4087  9.978027   -0.284203     -0.104321\n",
       "4088  9.980469   -0.284397     -0.104410\n",
       "4089  9.982910   -0.285028     -0.104687\n",
       "4090  9.985352   -0.284903     -0.105058\n",
       "4091  9.987793   -0.284905     -0.105150\n",
       "4092  9.990234   -0.285173     -0.105203\n",
       "4093  9.992676   -0.284732     -0.105366\n",
       "4094  9.995117   -0.284542     -0.105529\n",
       "4095  9.997559   -0.284638     -0.105660\n",
       "\n",
       "[4096 rows x 3 columns]"
      ]
     },
     "execution_count": 4,
     "metadata": {},
     "output_type": "execute_result"
    }
   ],
   "source": [
    "# drop columns with NaN\n",
    "data.dropna(axis=1)"
   ]
  },
  {
   "cell_type": "code",
   "execution_count": 5,
   "metadata": {
    "ExecuteTime": {
     "end_time": "2017-10-04T03:07:10.892196Z",
     "start_time": "2017-10-03T23:07:10.876185-04:00"
    },
    "collapsed": false,
    "deletable": true,
    "editable": true,
    "slideshow": {
     "slide_type": "subslide"
    }
   },
   "outputs": [
    {
     "data": {
      "text/plain": [
       "1.8441869734792116e-07"
      ]
     },
     "execution_count": 5,
     "metadata": {},
     "output_type": "execute_result"
    }
   ],
   "source": [
    "#calculate mean\n",
    "data[\"current(A)\"].mean()"
   ]
  },
  {
   "cell_type": "code",
   "execution_count": 6,
   "metadata": {
    "ExecuteTime": {
     "end_time": "2017-10-04T03:07:11.529261Z",
     "start_time": "2017-10-03T23:07:11.371130-04:00"
    },
    "collapsed": false,
    "deletable": true,
    "editable": true,
    "slideshow": {
     "slide_type": "fragment"
    }
   },
   "outputs": [
    {
     "data": {
      "text/plain": [
       "True"
      ]
     },
     "execution_count": 6,
     "metadata": {},
     "output_type": "execute_result"
    }
   ],
   "source": [
    "#calculate power directly\n",
    "power1 = data[\"current(A)\"]*data[\"potential(V)\"]\n",
    "\n",
    "# or apply lambda function row-by-row\n",
    "power2 = data.apply(lambda x: x[\"current(A)\"]*x[\"potential(V)\"], axis=1)\n",
    "\n",
    "(power1 == power2).all()"
   ]
  },
  {
   "cell_type": "markdown",
   "metadata": {
    "deletable": true,
    "editable": true,
    "slideshow": {
     "slide_type": "fragment"
    }
   },
   "source": [
    "#### Easily save data"
   ]
  },
  {
   "cell_type": "code",
   "execution_count": 7,
   "metadata": {
    "ExecuteTime": {
     "end_time": "2017-10-04T03:07:15.642530Z",
     "start_time": "2017-10-03T23:07:15.556470-04:00"
    },
    "collapsed": true,
    "deletable": true,
    "editable": true,
    "slideshow": {
     "slide_type": "fragment"
    }
   },
   "outputs": [],
   "source": [
    "data[\"power(W)\"] = power1\n",
    "\n",
    "data.to_csv(\"./add_power.txt\", index=False)"
   ]
  },
  {
   "cell_type": "markdown",
   "metadata": {
    "deletable": true,
    "editable": true
   },
   "source": [
    "<center> <img src=\"./images/matplotlib.png\" width=\"40%\"/> </center>\n",
    "\n",
    "## Matplotlib is a powerful Python plotting library and forms the basis for many other plotting libraries\n",
    "\n",
    "### Simple to use simply, but a LOT of low-level control if you want it..."
   ]
  },
  {
   "cell_type": "code",
   "execution_count": 8,
   "metadata": {
    "ExecuteTime": {
     "end_time": "2017-10-04T03:07:19.052890Z",
     "start_time": "2017-10-03T23:07:18.065589-04:00"
    },
    "collapsed": false,
    "deletable": true,
    "editable": true
   },
   "outputs": [
    {
     "data": {
      "image/png": "[encoded data removed]",
      "text/plain": [
       "<matplotlib.figure.Figure at 0x188da1eec50>"
      ]
     },
     "metadata": {},
     "output_type": "display_data"
    }
   ],
   "source": [
    "time = data[\"time(s)\"]\n",
    "voltage = data[\"potential(V)\"]\n",
    "current = data[\"current(A)\"]\n",
    "\n",
    "fig = plt.figure(figsize=(6.5,5))\n",
    "ax1 = fig.add_subplot(211)\n",
    "ax1.plot(time, voltage)\n",
    "ax1.set_ylabel(\"Voltage (V)\", fontsize=20)\n",
    "\n",
    "ax2 = fig.add_subplot(212)\n",
    "ax2.plot(time, current)\n",
    "ax2.set_ylabel(\"Current (A)\", fontsize=20)\n",
    "ax2.set_xlabel(\"Time (s)\", fontsize=20)\n",
    "\n",
    "labels = ['(a)', '(b)']\n",
    "for i, ax in enumerate([ax1, ax2]):\n",
    "    ax.set_xlim(0,10)\n",
    "    ax.text(.06, .8,labels[i], transform=ax.transAxes, fontsize=20, fontweight='bold')\n",
    "\n",
    "plt.tight_layout()\n",
    "plt.show()\n",
    "\n",
    "fig.savefig('./example_plotting.png', dpi=300, bbox_inches=\"tight\")"
   ]
  },
  {
   "cell_type": "markdown",
   "metadata": {
    "deletable": true,
    "editable": true
   },
   "source": [
    "<center> <img src=\"./images/seaborn.jpg\" width=\"50%\" /> </center>\n",
    "\n",
    "### Seaborn is a high-level library for plotting many different *statistical* plots\n",
    "\n",
    "https://seaborn.pydata.org/examples/index.html"
   ]
  },
  {
   "cell_type": "code",
   "execution_count": 9,
   "metadata": {
    "ExecuteTime": {
     "end_time": "2017-10-04T03:07:20.354012Z",
     "start_time": "2017-10-03T23:07:19.273341-04:00"
    },
    "collapsed": false,
    "deletable": true,
    "editable": true
   },
   "outputs": [
    {
     "data": {
      "image/png": "[encoded data removed]",
      "text/plain": [
       "<matplotlib.figure.Figure at 0x188da1c59e8>"
      ]
     },
     "metadata": {},
     "output_type": "display_data"
    }
   ],
   "source": [
    "import numpy as np\n",
    "from scipy import stats\n",
    "import matplotlib.pyplot as plt\n",
    "import seaborn as sns\n",
    "\n",
    "sns.set(color_codes=True)\n",
    "\n",
    "x = np.random.gamma(6, size=200)\n",
    "sns.distplot(x, kde=False, fit=stats.gamma)\n",
    "plt.show()"
   ]
  },
  {
   "cell_type": "markdown",
   "metadata": {
    "deletable": true,
    "editable": true
   },
   "source": [
    "# Bokeh"
   ]
  },
  {
   "cell_type": "markdown",
   "metadata": {
    "deletable": true,
    "editable": true
   },
   "source": [
    "## Interactive Cottrell Equation\n",
    "\n",
    "Diffusion controlled current is given by,\n",
    "$$\n",
    "i(t) = i_d(t) = \\frac{nFAD_O^{1/2}C^*_O}{\\pi^{1/2}t^{1/2}}\n",
    "$$\n",
    "\n"
   ]
  },
  {
   "cell_type": "code",
   "execution_count": 10,
   "metadata": {
    "ExecuteTime": {
     "end_time": "2017-10-04T03:07:22.601879Z",
     "start_time": "2017-10-03T23:07:21.432045-04:00"
    },
    "code_folding": [],
    "collapsed": false,
    "deletable": true,
    "editable": true,
    "scrolled": true
   },
   "outputs": [
    {
     "data": {
      "text/html": [
       "\n",
       "    <div class=\"bk-root\">\n",
       "        <a href=\"http://bokeh.pydata.org\" target=\"_blank\" class=\"bk-logo bk-logo-small bk-logo-notebook\"></a>\n",
       "        <span id=\"8e103db2-aaa4-4417-978e-dc93b32ca55e\">Loading BokehJS ...</span>\n",
       "    </div>"
      ]
     },
     "metadata": {},
     "output_type": "display_data"
    },
    {
     "data": {
      "application/javascript": [
       "\n",
       "(function(global) {\n",
       "  function now() {\n",
       "    return new Date();\n",
       "  }\n",
       "\n",
       "  var force = true;\n",
       "\n",
       "  if (typeof (window._bokeh_onload_callbacks) === \"undefined\" || force === true) {\n",
       "    window._bokeh_onload_callbacks = [];\n",
       "    window._bokeh_is_loading = undefined;\n",
       "  }\n",
       "\n",
       "\n",
       "  \n",
       "  if (typeof (window._bokeh_timeout) === \"undefined\" || force === true) {\n",
       "    window._bokeh_timeout = Date.now() + 5000;\n",
       "    window._bokeh_failed_load = false;\n",
       "  }\n",
       "\n",
       "  var NB_LOAD_WARNING = {'data': {'text/html':\n",
       "     \"<div style='background-color: #fdd'>\\n\"+\n",
       "     \"<p>\\n\"+\n",
       "     \"BokehJS does not appear to have successfully loaded. If loading BokehJS from CDN, this \\n\"+\n",
       "     \"may be due to a slow or bad network connection. Possible fixes:\\n\"+\n",
       "     \"</p>\\n\"+\n",
       "     \"<ul>\\n\"+\n",
       "     \"<li>re-rerun `output_notebook()` to attempt to load from CDN again, or</li>\\n\"+\n",
       "     \"<li>use INLINE resources instead, as so:</li>\\n\"+\n",
       "     \"</ul>\\n\"+\n",
       "     \"<code>\\n\"+\n",
       "     \"from bokeh.resources import INLINE\\n\"+\n",
       "     \"output_notebook(resources=INLINE)\\n\"+\n",
       "     \"</code>\\n\"+\n",
       "     \"</div>\"}};\n",
       "\n",
       "  function display_loaded() {\n",
       "    if (window.Bokeh !== undefined) {\n",
       "      document.getElementById(\"8e103db2-aaa4-4417-978e-dc93b32ca55e\").textContent = \"BokehJS successfully loaded.\";\n",
       "    } else if (Date.now() < window._bokeh_timeout) {\n",
       "      setTimeout(display_loaded, 100)\n",
       "    }\n",
       "  }\n",
       "\n",
       "  function run_callbacks() {\n",
       "    window._bokeh_onload_callbacks.forEach(function(callback) { callback() });\n",
       "    delete window._bokeh_onload_callbacks\n",
       "    console.info(\"Bokeh: all callbacks have finished\");\n",
       "  }\n",
       "\n",
       "  function load_libs(js_urls, callback) {\n",
       "    window._bokeh_onload_callbacks.push(callback);\n",
       "    if (window._bokeh_is_loading > 0) {\n",
       "      console.log(\"Bokeh: BokehJS is being loaded, scheduling callback at\", now());\n",
       "      return null;\n",
       "    }\n",
       "    if (js_urls == null || js_urls.length === 0) {\n",
       "      run_callbacks();\n",
       "      return null;\n",
       "    }\n",
       "    console.log(\"Bokeh: BokehJS not loaded, scheduling load and callback at\", now());\n",
       "    window._bokeh_is_loading = js_urls.length;\n",
       "    for (var i = 0; i < js_urls.length; i++) {\n",
       "      var url = js_urls[i];\n",
       "      var s = document.createElement('script');\n",
       "      s.src = url;\n",
       "      s.async = false;\n",
       "      s.onreadystatechange = s.onload = function() {\n",
       "        window._bokeh_is_loading--;\n",
       "        if (window._bokeh_is_loading === 0) {\n",
       "          console.log(\"Bokeh: all BokehJS libraries loaded\");\n",
       "          run_callbacks()\n",
       "        }\n",
       "      };\n",
       "      s.onerror = function() {\n",
       "        console.warn(\"failed to load library \" + url);\n",
       "      };\n",
       "      console.log(\"Bokeh: injecting script tag for BokehJS library: \", url);\n",
       "      document.getElementsByTagName(\"head\")[0].appendChild(s);\n",
       "    }\n",
       "  };var element = document.getElementById(\"8e103db2-aaa4-4417-978e-dc93b32ca55e\");\n",
       "  if (element == null) {\n",
       "    console.log(\"Bokeh: ERROR: autoload.js configured with elementid '8e103db2-aaa4-4417-978e-dc93b32ca55e' but no matching script tag was found. \")\n",
       "    return false;\n",
       "  }\n",
       "\n",
       "  var js_urls = [\"https://cdn.pydata.org/bokeh/release/bokeh-0.12.4.min.js\", \"https://cdn.pydata.org/bokeh/release/bokeh-widgets-0.12.4.min.js\"];\n",
       "\n",
       "  var inline_js = [\n",
       "    function(Bokeh) {\n",
       "      Bokeh.set_log_level(\"info\");\n",
       "    },\n",
       "    \n",
       "    function(Bokeh) {\n",
       "      \n",
       "      document.getElementById(\"8e103db2-aaa4-4417-978e-dc93b32ca55e\").textContent = \"BokehJS is loading...\";\n",
       "    },\n",
       "    function(Bokeh) {\n",
       "      console.log(\"Bokeh: injecting CSS: https://cdn.pydata.org/bokeh/release/bokeh-0.12.4.min.css\");\n",
       "      Bokeh.embed.inject_css(\"https://cdn.pydata.org/bokeh/release/bokeh-0.12.4.min.css\");\n",
       "      console.log(\"Bokeh: injecting CSS: https://cdn.pydata.org/bokeh/release/bokeh-widgets-0.12.4.min.css\");\n",
       "      Bokeh.embed.inject_css(\"https://cdn.pydata.org/bokeh/release/bokeh-widgets-0.12.4.min.css\");\n",
       "    }\n",
       "  ];\n",
       "\n",
       "  function run_inline_js() {\n",
       "    \n",
       "    if ((window.Bokeh !== undefined) || (force === true)) {\n",
       "      for (var i = 0; i < inline_js.length; i++) {\n",
       "        inline_js[i](window.Bokeh);\n",
       "      }if (force === true) {\n",
       "        display_loaded();\n",
       "      }} else if (Date.now() < window._bokeh_timeout) {\n",
       "      setTimeout(run_inline_js, 100);\n",
       "    } else if (!window._bokeh_failed_load) {\n",
       "      console.log(\"Bokeh: BokehJS failed to load within specified timeout.\");\n",
       "      window._bokeh_failed_load = true;\n",
       "    } else if (force !== true) {\n",
       "      var cell = $(document.getElementById(\"8e103db2-aaa4-4417-978e-dc93b32ca55e\")).parents('.cell').data().cell;\n",
       "      cell.output_area.append_execute_result(NB_LOAD_WARNING)\n",
       "    }\n",
       "\n",
       "  }\n",
       "\n",
       "  if (window._bokeh_is_loading === 0) {\n",
       "    console.log(\"Bokeh: BokehJS loaded, going straight to plotting\");\n",
       "    run_inline_js();\n",
       "  } else {\n",
       "    load_libs(js_urls, function() {\n",
       "      console.log(\"Bokeh: BokehJS plotting callback run at\", now());\n",
       "      run_inline_js();\n",
       "    });\n",
       "  }\n",
       "}(this));"
      ]
     },
     "metadata": {},
     "output_type": "display_data"
    },
    {
     "data": {
      "text/html": [
       "\n",
       "\n",
       "    <div class=\"bk-root\">\n",
       "        <div class=\"bk-plotdiv\" id=\"f7509a03-e26f-448f-9278-0ce241d14791\"></div>\n",
       "    </div>\n",
       "<script type=\"text/javascript\">\n",
       "  \n",
       "  (function(global) {\n",
       "    function now() {\n",
       "      return new Date();\n",
       "    }\n",
       "  \n",
       "    var force = false;\n",
       "  \n",
       "    if (typeof (window._bokeh_onload_callbacks) === \"undefined\" || force === true) {\n",
       "      window._bokeh_onload_callbacks = [];\n",
       "      window._bokeh_is_loading = undefined;\n",
       "    }\n",
       "  \n",
       "  \n",
       "    \n",
       "    if (typeof (window._bokeh_timeout) === \"undefined\" || force === true) {\n",
       "      window._bokeh_timeout = Date.now() + 0;\n",
       "      window._bokeh_failed_load = false;\n",
       "    }\n",
       "  \n",
       "    var NB_LOAD_WARNING = {'data': {'text/html':\n",
       "       \"<div style='background-color: #fdd'>\\n\"+\n",
       "       \"<p>\\n\"+\n",
       "       \"BokehJS does not appear to have successfully loaded. If loading BokehJS from CDN, this \\n\"+\n",
       "       \"may be due to a slow or bad network connection. Possible fixes:\\n\"+\n",
       "       \"</p>\\n\"+\n",
       "       \"<ul>\\n\"+\n",
       "       \"<li>re-rerun `output_notebook()` to attempt to load from CDN again, or</li>\\n\"+\n",
       "       \"<li>use INLINE resources instead, as so:</li>\\n\"+\n",
       "       \"</ul>\\n\"+\n",
       "       \"<code>\\n\"+\n",
       "       \"from bokeh.resources import INLINE\\n\"+\n",
       "       \"output_notebook(resources=INLINE)\\n\"+\n",
       "       \"</code>\\n\"+\n",
       "       \"</div>\"}};\n",
       "  \n",
       "    function display_loaded() {\n",
       "      if (window.Bokeh !== undefined) {\n",
       "        document.getElementById(\"f7509a03-e26f-448f-9278-0ce241d14791\").textContent = \"BokehJS successfully loaded.\";\n",
       "      } else if (Date.now() < window._bokeh_timeout) {\n",
       "        setTimeout(display_loaded, 100)\n",
       "      }\n",
       "    }if ((window.Jupyter !== undefined) && Jupyter.notebook.kernel) {\n",
       "      comm_manager = Jupyter.notebook.kernel.comm_manager\n",
       "      comm_manager.register_target(\"015c1a45-5e97-436a-97d1-d5aa3f16f8e6\", function () {});\n",
       "    }\n",
       "  \n",
       "    function run_callbacks() {\n",
       "      window._bokeh_onload_callbacks.forEach(function(callback) { callback() });\n",
       "      delete window._bokeh_onload_callbacks\n",
       "      console.info(\"Bokeh: all callbacks have finished\");\n",
       "    }\n",
       "  \n",
       "    function load_libs(js_urls, callback) {\n",
       "      window._bokeh_onload_callbacks.push(callback);\n",
       "      if (window._bokeh_is_loading > 0) {\n",
       "        console.log(\"Bokeh: BokehJS is being loaded, scheduling callback at\", now());\n",
       "        return null;\n",
       "      }\n",
       "      if (js_urls == null || js_urls.length === 0) {\n",
       "        run_callbacks();\n",
       "        return null;\n",
       "      }\n",
       "      console.log(\"Bokeh: BokehJS not loaded, scheduling load and callback at\", now());\n",
       "      window._bokeh_is_loading = js_urls.length;\n",
       "      for (var i = 0; i < js_urls.length; i++) {\n",
       "        var url = js_urls[i];\n",
       "        var s = document.createElement('script');\n",
       "        s.src = url;\n",
       "        s.async = false;\n",
       "        s.onreadystatechange = s.onload = function() {\n",
       "          window._bokeh_is_loading--;\n",
       "          if (window._bokeh_is_loading === 0) {\n",
       "            console.log(\"Bokeh: all BokehJS libraries loaded\");\n",
       "            run_callbacks()\n",
       "          }\n",
       "        };\n",
       "        s.onerror = function() {\n",
       "          console.warn(\"failed to load library \" + url);\n",
       "        };\n",
       "        console.log(\"Bokeh: injecting script tag for BokehJS library: \", url);\n",
       "        document.getElementsByTagName(\"head\")[0].appendChild(s);\n",
       "      }\n",
       "    };var element = document.getElementById(\"f7509a03-e26f-448f-9278-0ce241d14791\");\n",
       "    if (element == null) {\n",
       "      console.log(\"Bokeh: ERROR: autoload.js configured with elementid 'f7509a03-e26f-448f-9278-0ce241d14791' but no matching script tag was found. \")\n",
       "      return false;\n",
       "    }\n",
       "  \n",
       "    var js_urls = [];\n",
       "  \n",
       "    var inline_js = [\n",
       "      function(Bokeh) {\n",
       "        (function() {\n",
       "          var fn = function() {\n",
       "            var docs_json = {\"9febc7fe-0a6f-4f43-b1ef-4bb0ff339dbb\":{\"roots\":{\"references\":[{\"attributes\":{\"data_source\":{\"id\":\"460f35c0-497a-4fcb-b8e7-b00d4da0857c\",\"type\":\"ColumnDataSource\"},\"glyph\":{\"id\":\"b35e5950-ee39-4460-97ba-60badc09537c\",\"type\":\"Line\"},\"hover_glyph\":null,\"nonselection_glyph\":{\"id\":\"9ea7143a-7308-4869-9f4a-0e0283cce5ff\",\"type\":\"Line\"},\"selection_glyph\":null},\"id\":\"1145acc1-39ff-4e52-9fbe-b8de86cc9850\",\"type\":\"GlyphRenderer\"},{\"attributes\":{},\"id\":\"0b4a4fb7-9402-47ca-85a2-bfc5924da7b6\",\"type\":\"BasicTickFormatter\"},{\"attributes\":{\"below\":[{\"id\":\"7571f3cb-714a-4bfa-942a-ed9948f0747c\",\"type\":\"LinearAxis\"}],\"left\":[{\"id\":\"ce02f7ca-54a5-42d5-9317-d7bda9713931\",\"type\":\"LinearAxis\"}],\"plot_height\":300,\"renderers\":[{\"id\":\"7571f3cb-714a-4bfa-942a-ed9948f0747c\",\"type\":\"LinearAxis\"},{\"id\":\"2b753a6a-3f29-408d-9628-5636ca4ac879\",\"type\":\"Grid\"},{\"id\":\"ce02f7ca-54a5-42d5-9317-d7bda9713931\",\"type\":\"LinearAxis\"},{\"id\":\"de4f24c3-7e67-4652-8e0d-5d172a315859\",\"type\":\"Grid\"},{\"id\":\"7897c419-ae42-45b3-9ead-6db32a836031\",\"type\":\"BoxAnnotation\"},{\"id\":\"1145acc1-39ff-4e52-9fbe-b8de86cc9850\",\"type\":\"GlyphRenderer\"}],\"title\":{\"id\":\"0bacda62-9d79-4346-a950-f0db9350e097\",\"type\":\"Title\"},\"tool_events\":{\"id\":\"2b5e3e90-7cd2-4b60-8f17-98060ef84fc1\",\"type\":\"ToolEvents\"},\"toolbar\":{\"id\":\"5818c0f3-579e-4997-9efe-63fa49c97c74\",\"type\":\"Toolbar\"},\"toolbar_location\":null,\"x_range\":{\"id\":\"57ed3c1e-e78b-49f3-8008-fdcfb7c39219\",\"type\":\"DataRange1d\"},\"y_range\":{\"id\":\"34440e1f-9c1b-471c-a885-b5cb48102d03\",\"type\":\"Range1d\"}},\"id\":\"d7050934-1a15-40be-89fe-2fe48a99dc4b\",\"subtype\":\"Figure\",\"type\":\"Plot\"},{\"attributes\":{\"active_drag\":\"auto\",\"active_scroll\":\"auto\",\"active_tap\":\"auto\",\"tools\":[{\"id\":\"dd2cbd61-22d1-4a91-8936-03ec962dd14a\",\"type\":\"PanTool\"},{\"id\":\"86ebef71-2cf5-47c4-9a1e-9bd32d605029\",\"type\":\"WheelZoomTool\"},{\"id\":\"8e6a7dce-dd76-4b42-8484-09a540a0f0ad\",\"type\":\"BoxZoomTool\"},{\"id\":\"401ede50-e670-4374-a154-4b6453752281\",\"type\":\"SaveTool\"},{\"id\":\"e363d676-017c-444a-8f07-717506e3668c\",\"type\":\"ResetTool\"},{\"id\":\"64ec8cc9-45ee-4c4d-9c99-6828aa98ddbc\",\"type\":\"HelpTool\"}]},\"id\":\"5818c0f3-579e-4997-9efe-63fa49c97c74\",\"type\":\"Toolbar\"},{\"attributes\":{\"plot\":{\"id\":\"d7050934-1a15-40be-89fe-2fe48a99dc4b\",\"subtype\":\"Figure\",\"type\":\"Plot\"}},\"id\":\"86ebef71-2cf5-47c4-9a1e-9bd32d605029\",\"type\":\"WheelZoomTool\"},{\"attributes\":{\"callback\":null},\"id\":\"57ed3c1e-e78b-49f3-8008-fdcfb7c39219\",\"type\":\"DataRange1d\"},{\"attributes\":{\"formatter\":{\"id\":\"6c2d781e-a097-424a-a929-40de50b67541\",\"type\":\"BasicTickFormatter\"},\"plot\":{\"id\":\"d7050934-1a15-40be-89fe-2fe48a99dc4b\",\"subtype\":\"Figure\",\"type\":\"Plot\"},\"ticker\":{\"id\":\"9938e4b5-cdfc-46c9-b02e-b41c5ef99f65\",\"type\":\"BasicTicker\"}},\"id\":\"7571f3cb-714a-4bfa-942a-ed9948f0747c\",\"type\":\"LinearAxis\"},{\"attributes\":{\"callback\":null,\"end\":100,\"start\":-100},\"id\":\"34440e1f-9c1b-471c-a885-b5cb48102d03\",\"type\":\"Range1d\"},{\"attributes\":{},\"id\":\"9938e4b5-cdfc-46c9-b02e-b41c5ef99f65\",\"type\":\"BasicTicker\"},{\"attributes\":{\"plot\":{\"id\":\"d7050934-1a15-40be-89fe-2fe48a99dc4b\",\"subtype\":\"Figure\",\"type\":\"Plot\"},\"ticker\":{\"id\":\"9938e4b5-cdfc-46c9-b02e-b41c5ef99f65\",\"type\":\"BasicTicker\"}},\"id\":\"2b753a6a-3f29-408d-9628-5636ca4ac879\",\"type\":\"Grid\"},{\"attributes\":{\"formatter\":{\"id\":\"0b4a4fb7-9402-47ca-85a2-bfc5924da7b6\",\"type\":\"BasicTickFormatter\"},\"plot\":{\"id\":\"d7050934-1a15-40be-89fe-2fe48a99dc4b\",\"subtype\":\"Figure\",\"type\":\"Plot\"},\"ticker\":{\"id\":\"52b1f748-b237-4c0d-877c-5853d12aecf8\",\"type\":\"BasicTicker\"}},\"id\":\"ce02f7ca-54a5-42d5-9317-d7bda9713931\",\"type\":\"LinearAxis\"},{\"attributes\":{},\"id\":\"52b1f748-b237-4c0d-877c-5853d12aecf8\",\"type\":\"BasicTicker\"},{\"attributes\":{\"dimension\":1,\"plot\":{\"id\":\"d7050934-1a15-40be-89fe-2fe48a99dc4b\",\"subtype\":\"Figure\",\"type\":\"Plot\"},\"ticker\":{\"id\":\"52b1f748-b237-4c0d-877c-5853d12aecf8\",\"type\":\"BasicTicker\"}},\"id\":\"de4f24c3-7e67-4652-8e0d-5d172a315859\",\"type\":\"Grid\"},{\"attributes\":{\"bottom_units\":\"screen\",\"fill_alpha\":{\"value\":0.5},\"fill_color\":{\"value\":\"lightgrey\"},\"left_units\":\"screen\",\"level\":\"overlay\",\"line_alpha\":{\"value\":1.0},\"line_color\":{\"value\":\"black\"},\"line_dash\":[4,4],\"line_width\":{\"value\":2},\"plot\":null,\"render_mode\":\"css\",\"right_units\":\"screen\",\"top_units\":\"screen\"},\"id\":\"7897c419-ae42-45b3-9ead-6db32a836031\",\"type\":\"BoxAnnotation\"},{\"attributes\":{\"children\":[{\"id\":\"d7050934-1a15-40be-89fe-2fe48a99dc4b\",\"subtype\":\"Figure\",\"type\":\"Plot\"}]},\"id\":\"085fe071-8fe0-4603-8aae-7c856fdd932e\",\"type\":\"Row\"},{\"attributes\":{},\"id\":\"2b5e3e90-7cd2-4b60-8f17-98060ef84fc1\",\"type\":\"ToolEvents\"},{\"attributes\":{\"plot\":{\"id\":\"d7050934-1a15-40be-89fe-2fe48a99dc4b\",\"subtype\":\"Figure\",\"type\":\"Plot\"}},\"id\":\"dd2cbd61-22d1-4a91-8936-03ec962dd14a\",\"type\":\"PanTool\"},{\"attributes\":{\"children\":[{\"id\":\"085fe071-8fe0-4603-8aae-7c856fdd932e\",\"type\":\"Row\"}]},\"id\":\"fbe96d61-2290-4fb1-8b47-5ffc8171b8c1\",\"type\":\"Column\"},{\"attributes\":{\"overlay\":{\"id\":\"7897c419-ae42-45b3-9ead-6db32a836031\",\"type\":\"BoxAnnotation\"},\"plot\":{\"id\":\"d7050934-1a15-40be-89fe-2fe48a99dc4b\",\"subtype\":\"Figure\",\"type\":\"Plot\"}},\"id\":\"8e6a7dce-dd76-4b42-8484-09a540a0f0ad\",\"type\":\"BoxZoomTool\"},{\"attributes\":{\"callback\":null,\"column_names\":[\"x\",\"y\"],\"data\":{\"x\":{\"__ndarray__\":\"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\",\"dtype\":\"float64\",\"shape\":[1000]},\"y\":{\"__ndarray__\":\"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\",\"dtype\":\"float64\",\"shape\":[1000]}}},\"id\":\"460f35c0-497a-4fcb-b8e7-b00d4da0857c\",\"type\":\"ColumnDataSource\"},{\"attributes\":{\"line_alpha\":{\"value\":0.1},\"line_color\":{\"value\":\"#1f77b4\"},\"line_width\":{\"value\":3},\"x\":{\"field\":\"x\"},\"y\":{\"field\":\"y\"}},\"id\":\"9ea7143a-7308-4869-9f4a-0e0283cce5ff\",\"type\":\"Line\"},{\"attributes\":{\"plot\":{\"id\":\"d7050934-1a15-40be-89fe-2fe48a99dc4b\",\"subtype\":\"Figure\",\"type\":\"Plot\"}},\"id\":\"401ede50-e670-4374-a154-4b6453752281\",\"type\":\"SaveTool\"},{\"attributes\":{\"plot\":{\"id\":\"d7050934-1a15-40be-89fe-2fe48a99dc4b\",\"subtype\":\"Figure\",\"type\":\"Plot\"}},\"id\":\"e363d676-017c-444a-8f07-717506e3668c\",\"type\":\"ResetTool\"},{\"attributes\":{\"plot\":{\"id\":\"d7050934-1a15-40be-89fe-2fe48a99dc4b\",\"subtype\":\"Figure\",\"type\":\"Plot\"}},\"id\":\"64ec8cc9-45ee-4c4d-9c99-6828aa98ddbc\",\"type\":\"HelpTool\"},{\"attributes\":{},\"id\":\"6c2d781e-a097-424a-a929-40de50b67541\",\"type\":\"BasicTickFormatter\"},{\"attributes\":{\"line_color\":{\"value\":\"#2222aa\"},\"line_width\":{\"value\":3},\"x\":{\"field\":\"x\"},\"y\":{\"field\":\"y\"}},\"id\":\"b35e5950-ee39-4460-97ba-60badc09537c\",\"type\":\"Line\"},{\"attributes\":{\"plot\":null,\"text\":\"Cottrell Equation\"},\"id\":\"0bacda62-9d79-4346-a950-f0db9350e097\",\"type\":\"Title\"}],\"root_ids\":[\"fbe96d61-2290-4fb1-8b47-5ffc8171b8c1\"]},\"title\":\"Bokeh Application\",\"version\":\"0.12.4\"}};\n",
       "            var render_items = [{\"docid\":\"9febc7fe-0a6f-4f43-b1ef-4bb0ff339dbb\",\"elementid\":\"f7509a03-e26f-448f-9278-0ce241d14791\",\"modelid\":\"fbe96d61-2290-4fb1-8b47-5ffc8171b8c1\",\"notebook_comms_target\":\"015c1a45-5e97-436a-97d1-d5aa3f16f8e6\"}];\n",
       "            \n",
       "            Bokeh.embed.embed_items(docs_json, render_items);\n",
       "          };\n",
       "          if (document.readyState != \"loading\") fn();\n",
       "          else document.addEventListener(\"DOMContentLoaded\", fn);\n",
       "        })();\n",
       "      },\n",
       "      function(Bokeh) {\n",
       "      }\n",
       "    ];\n",
       "  \n",
       "    function run_inline_js() {\n",
       "      \n",
       "      if ((window.Bokeh !== undefined) || (force === true)) {\n",
       "        for (var i = 0; i < inline_js.length; i++) {\n",
       "          inline_js[i](window.Bokeh);\n",
       "        }if (force === true) {\n",
       "          display_loaded();\n",
       "        }} else if (Date.now() < window._bokeh_timeout) {\n",
       "        setTimeout(run_inline_js, 100);\n",
       "      } else if (!window._bokeh_failed_load) {\n",
       "        console.log(\"Bokeh: BokehJS failed to load within specified timeout.\");\n",
       "        window._bokeh_failed_load = true;\n",
       "      } else if (force !== true) {\n",
       "        var cell = $(document.getElementById(\"f7509a03-e26f-448f-9278-0ce241d14791\")).parents('.cell').data().cell;\n",
       "        cell.output_area.append_execute_result(NB_LOAD_WARNING)\n",
       "      }\n",
       "  \n",
       "    }\n",
       "  \n",
       "    if (window._bokeh_is_loading === 0) {\n",
       "      console.log(\"Bokeh: BokehJS loaded, going straight to plotting\");\n",
       "      run_inline_js();\n",
       "    } else {\n",
       "      load_libs(js_urls, function() {\n",
       "        console.log(\"Bokeh: BokehJS plotting callback run at\", now());\n",
       "        run_inline_js();\n",
       "      });\n",
       "    }\n",
       "  }(this));\n",
       "</script>"
      ]
     },
     "metadata": {},
     "output_type": "display_data"
    },
    {
     "data": {
      "text/html": [
       "<p><code>&lt;Bokeh Notebook handle for <strong>In[10]</strong>&gt;</code></p>"
      ],
      "text/plain": [
       "<bokeh.io._CommsHandle at 0x188dad70160>"
      ]
     },
     "execution_count": 10,
     "metadata": {},
     "output_type": "execute_result"
    }
   ],
   "source": [
    "# Create the interactive graphs\n",
    "from ipywidgets import interact\n",
    "import numpy as np\n",
    "\n",
    "from bokeh.io import push_notebook, show, output_notebook\n",
    "from bokeh.layouts import gridplot\n",
    "from bokeh.plotting import figure\n",
    "output_notebook()\n",
    "\n",
    "time = np.linspace(.1, 10, 1000)\n",
    "\n",
    "# Constants\n",
    "n = 1\n",
    "F = 96487\n",
    "pi = np.pi\n",
    "\n",
    "# Parameters\n",
    "A = .1  # cm^2\n",
    "D = -7  # cm^2/sec\n",
    "C = 10  # mol/cm^3\n",
    "\n",
    "i = (n*F*A*(10**D)**0.5*C)/(pi**0.5*time**0.5)\n",
    "\n",
    "p = figure(title=\"Cottrell Equation\", plot_height=300, plot_width=600, y_range=(-100,100))\n",
    "line = p.line(time, i, color=\"#2222aa\", line_width=3)\n",
    "\n",
    "def update(A=.1, D=10e-7, C=10):\n",
    "    i = (n*F*A*(10**D)**0.5*C)/(pi**0.5*time**0.5)\n",
    "    line.data_source.data['y'] = i\n",
    "    push_notebook()\n",
    "    \n",
    "s = gridplot([[p]], toolbar_location=None)\n",
    "show(s, notebook_handle=True)"
   ]
  },
  {
   "cell_type": "code",
   "execution_count": 11,
   "metadata": {
    "ExecuteTime": {
     "end_time": "2017-10-04T03:07:22.709953Z",
     "start_time": "2017-10-03T23:07:22.603881-04:00"
    },
    "code_folding": [
     0
    ],
    "collapsed": false,
    "deletable": true,
    "editable": true
   },
   "outputs": [
    {
     "data": {
      "application/vnd.jupyter.widget-view+json": {
       "model_id": "e5ec70f017704848a4af8cb87a66a289"
      }
     },
     "metadata": {},
     "output_type": "display_data"
    },
    {
     "data": {
      "text/plain": [
       "<function __main__.update>"
      ]
     },
     "execution_count": 11,
     "metadata": {},
     "output_type": "execute_result"
    }
   ],
   "source": [
    "# Create the sliders for the graphs\n",
    "interact(update,  A=(0.01,.1,0.01), D=(-9,-5,.1), C=(0.1, 10, 0.1))"
   ]
  },
  {
   "cell_type": "markdown",
   "metadata": {
    "deletable": true,
    "editable": true
   },
   "source": [
    "<center> <img src=\"./images/sklearn.png\" width=\"30%\" /> </center>\n",
    "\n",
    "## Machine Learning in Python"
   ]
  },
  {
   "cell_type": "code",
   "execution_count": 12,
   "metadata": {
    "ExecuteTime": {
     "end_time": "2017-10-04T03:07:27.924791Z",
     "start_time": "2017-10-03T23:07:27.010260-04:00"
    },
    "collapsed": false,
    "deletable": true,
    "editable": true
   },
   "outputs": [
    {
     "name": "stdout",
     "output_type": "stream",
     "text": [
      "Using matplotlib backend: Qt5Agg\n"
     ]
    }
   ],
   "source": [
    "# Code source: Gaël Varoquaux\n",
    "# Modified for documentation by Jaques Grobler\n",
    "# License: BSD 3 clause\n",
    "\n",
    "import numpy as np\n",
    "import matplotlib.pyplot as plt\n",
    "%matplotlib auto\n",
    "# Though the following import is not directly being used, it is required\n",
    "# for 3D projection to work\n",
    "from mpl_toolkits.mplot3d import Axes3D\n",
    "\n",
    "from sklearn.cluster import KMeans\n",
    "from sklearn import datasets\n",
    "\n",
    "np.random.seed(5)\n",
    "\n",
    "iris = datasets.load_iris()\n",
    "X = iris.data\n",
    "y = iris.target\n",
    "\n",
    "estimators = [('k_means_iris_8', KMeans(n_clusters=8)),\n",
    "              ('k_means_iris_3', KMeans(n_clusters=3)),\n",
    "              ('k_means_iris_bad_init', KMeans(n_clusters=3, n_init=1,\n",
    "                                               init='random'))]\n",
    "\n",
    "fignum = 1\n",
    "titles = ['8 clusters', '3 clusters', '3 clusters, bad initialization']\n",
    "for name, est in estimators:\n",
    "    fig = plt.figure(fignum, figsize=(4, 3))\n",
    "    ax = Axes3D(fig, rect=[0, 0, .95, 1], elev=48, azim=134)\n",
    "    est.fit(X)\n",
    "    labels = est.labels_\n",
    "\n",
    "    ax.scatter(X[:, 3], X[:, 0], X[:, 2],\n",
    "               c=labels.astype(np.float), edgecolor='k')\n",
    "\n",
    "    ax.w_xaxis.set_ticklabels([])\n",
    "    ax.w_yaxis.set_ticklabels([])\n",
    "    ax.w_zaxis.set_ticklabels([])\n",
    "    ax.set_xlabel('Petal width')\n",
    "    ax.set_ylabel('Sepal length')\n",
    "    ax.set_zlabel('Petal length')\n",
    "    ax.set_title(titles[fignum - 1])\n",
    "    ax.dist = 12\n",
    "    fignum = fignum + 1\n",
    "\n",
    "# Plot the ground truth\n",
    "fig = plt.figure(fignum, figsize=(4, 3))\n",
    "ax = Axes3D(fig, rect=[0, 0, .95, 1], elev=48, azim=134)\n",
    "\n",
    "for name, label in [('Setosa', 0),\n",
    "                    ('Versicolour', 1),\n",
    "                    ('Virginica', 2)]:\n",
    "    ax.text3D(X[y == label, 3].mean(),\n",
    "              X[y == label, 0].mean(),\n",
    "              X[y == label, 2].mean() + 2, name,\n",
    "              horizontalalignment='center',\n",
    "              bbox=dict(alpha=.2, edgecolor='w', facecolor='w'))\n",
    "\n",
    "y = np.choose(y, [1, 2, 0]).astype(np.float)\n",
    "ax.scatter(X[:, 3], X[:, 0], X[:, 2], c=y, edgecolor='k')\n",
    "\n",
    "ax.w_xaxis.set_ticklabels([])\n",
    "ax.w_yaxis.set_ticklabels([])\n",
    "ax.w_zaxis.set_ticklabels([])\n",
    "ax.set_xlabel('Petal width')\n",
    "ax.set_ylabel('Sepal length')\n",
    "ax.set_zlabel('Petal length')\n",
    "ax.set_title('Ground Truth')\n",
    "ax.dist = 12\n",
    "\n",
    "fig.show()"
   ]
  },
  {
   "cell_type": "code",
   "execution_count": null,
   "metadata": {
    "collapsed": true,
    "deletable": true,
    "editable": true
   },
   "outputs": [],
   "source": []
  },
  {
   "cell_type": "code",
   "execution_count": null,
   "metadata": {
    "collapsed": true
   },
   "outputs": [],
   "source": []
  }
 ],
 "metadata": {
  "kernelspec": {
   "display_name": "Python 3",
   "language": "python",
   "name": "python3"
  },
  "language_info": {
   "codemirror_mode": {
    "name": "ipython",
    "version": 3
   },
   "file_extension": ".py",
   "mimetype": "text/x-python",
   "name": "python",
   "nbconvert_exporter": "python",
   "pygments_lexer": "ipython3",
   "version": "3.6.1"
  }
 },
 "nbformat": 4,
 "nbformat_minor": 2
}
